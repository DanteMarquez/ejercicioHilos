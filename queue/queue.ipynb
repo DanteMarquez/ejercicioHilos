{
 "cells": [
  {
   "cell_type": "markdown",
   "metadata": {},
   "source": [
    "<div style=\"display:flex;flex-direction:row;justify-content: space-evenly;\">\n",
    "<img src=\"tecnm.png\" style=\"height:100px;\"/>\n",
    "<img src=\"itcolima.svg\" style=\"width:100px\"/>\n",
    "</div>\n",
    "<div style=\"display:flex;flex-direction:column;gap:20px;text-align:center\">\n",
    "<h1>Tecnológico Nacional de México campus Colima</h1>\n",
    "<h2>Maestría en Sistemas Computacionales</h2>\n",
    "<h2>Tecnologías de programación</h2>\n",
    "<h2>Actividad - \"Colas multiproductor y multiconsumidor\"</h2>\n",
    "<h2>D. en C. Patricia Elizabeth Figueroa Millán</h2>\n",
    "<h3>Dante Alberto Márquez Almaraz | G2146002</h3>\n",
    "<p style=\"text-align:right;\">Villa de Álvarez, Colima - 09 de noviembre de 2022</p>\n",
    "<p></p>\n",
    "</div>"
   ]
  },
  {
   "cell_type": "markdown",
   "metadata": {},
   "source": [
    "Objetivo:\n",
    "\n",
    "Investigar el módulo queue de Python  para el intercambio de información entre múltiples hilos. "
   ]
  },
  {
   "cell_type": "markdown",
   "metadata": {},
   "source": [
    "Metodología:\n",
    "\n",
    "Se realizó una investigación referente a los temas de queue y se complementaron con ejemplos de código en Python."
   ]
  },
  {
   "cell_type": "markdown",
   "metadata": {},
   "source": [
    "Materiales:\n",
    "\n",
    "Computadora.\n",
    "Visual Studio Code.\n",
    "Jupyter Notebook.\n"
   ]
  },
  {
   "cell_type": "markdown",
   "metadata": {},
   "source": [
    "Desarrollo:\n",
    "\n",
    "Al igual que la pila, la cola es una estructura de datos lineal que almacena elementos en forma de primero en entrar, primero en salir (FIFO). Con una cola, el elemento agregado menos recientemente se elimina primero. Un buen ejemplo de cola es cualquier cola de consumidores de un recurso donde se atiende primero al consumidor que llegó primero [1].\n",
    "\n",
    "El módulo estándar Queue o queue (Python 2 o 3, respectivamente) permite crear y trabajar con colas de manera sencilla. Es generalmente utilizado en programas multi-hilo, ya que provee una forma de intercambiar información entre threads de manera segura [2].\n",
    "\n",
    "Las operaciones asociadas con la cola son [3]:\n",
    " \n",
    "Poner en cola: agrega un elemento a la cola. \n",
    "Si la cola está llena, se dice que es una condición de desbordamiento – \n",
    "Complejidad de tiempo: O(1)\n",
    "\n",
    "Dequeue: elimina un elemento de la cola. \n",
    "Los elementos se abren en el mismo orden en que se empujan. \n",
    "Si la cola está vacía, se dice que es una condición de subdesbordamiento – \n",
    "Complejidad de tiempo: O(1)\n",
    "\n",
    "Anverso: obtener el elemento frontal de la cola - \n",
    "Complejidad de tiempo: O (1)\n",
    "\n",
    "Posterior: obtenga el último elemento de la cola - \n",
    "Complejidad de tiempo: O (1)\n",
    "\n",
    "\n",
    "\n",
    "Implementa tres tipos de colas, que difieren únicamente en el orden en que se retornan los ítems [3]:\n",
    "\n",
    "FIFO (primero en entrar primero en salir, del inglés «First In First Out»): el primer ítem que es añadido a la lista es el primero en ser retornado.\n",
    "LIFO (último en entrar primero en salir, del inglés «Last In First Out»): el último ítem que es añadido a la lista es el primero en ser retornado.\n",
    "Priority Queue (cola de prioridad): el ítem de menor valor es el primero en ser retornado."
   ]
  },
  {
   "cell_type": "markdown",
   "metadata": {},
   "source": [
    "Resultados:"
   ]
  },
  {
   "cell_type": "markdown",
   "metadata": {},
   "source": [
    "Añadir y retornar tres ítems. Nótese el orden en el que se obtienen, variando según el tipo de cola."
   ]
  },
  {
   "cell_type": "code",
   "execution_count": 2,
   "metadata": {},
   "outputs": [
    {
     "name": "stdout",
     "output_type": "stream",
     "text": [
      "Cola FIFO\n",
      "Perro\n",
      "Gato\n",
      "Conejo\n",
      "\n",
      "Cola LIFO\n",
      "Conejo\n",
      "Gato\n",
      "Perro\n",
      "\n",
      "Cola de prioridad\n",
      "(1, 'Conejo')\n",
      "(2, 'Perro')\n",
      "(3, 'Gato')\n"
     ]
    }
   ],
   "source": [
    "try:\n",
    "    import Queue as queue\n",
    "except ImportError:\n",
    "    # Python 3\n",
    "    import queue\n",
    "fifo_queue = queue.Queue(3)\n",
    "lifo_queue = queue.LifoQueue(3)\n",
    "priority_queue = queue.PriorityQueue(3)\n",
    "fifo_queue.put(\"Perro\")\n",
    "fifo_queue.put(\"Gato\")\n",
    "fifo_queue.put(\"Conejo\")\n",
    "lifo_queue.put(\"Perro\")\n",
    "lifo_queue.put(\"Gato\")\n",
    "lifo_queue.put(\"Conejo\")\n",
    "priority_queue.put((2, \"Perro\"))\n",
    "priority_queue.put((3, \"Gato\"))\n",
    "priority_queue.put((1, \"Conejo\"))\n",
    "print(\"Cola FIFO\")\n",
    "print(fifo_queue.get())\n",
    "print(fifo_queue.get())\n",
    "print(fifo_queue.get())\n",
    "print(\"\\nCola LIFO\")\n",
    "print(lifo_queue.get())\n",
    "print(lifo_queue.get())\n",
    "print(lifo_queue.get())\n",
    "print(\"\\nCola de prioridad\")\n",
    "print(priority_queue.get())\n",
    "print(priority_queue.get())\n",
    "print(priority_queue.get())"
   ]
  },
  {
   "cell_type": "markdown",
   "metadata": {},
   "source": [
    "Conclusiones:\n",
    "\n"
   ]
  },
  {
   "cell_type": "markdown",
   "metadata": {},
   "source": [
    "En este trabajo, hemos aprendido el uso de queue en Python.\n",
    "Puede implementar FIFO, LIFO y colas prioritarias desde cero utilizando diferentes estructuras de datos en Python, comprendiendo sus compensaciones. Al mismo tiempo, conoce todas las colas integradas en la biblioteca estándar, incluidas las colas seguras para subprocesos, las colas asíncronas y una cola para el paralelismo basado en procesos. También conoce las bibliotecas que permiten la integración de Python con colas de agentes de mensajes populares en la nube."
   ]
  },
  {
   "cell_type": "markdown",
   "metadata": {},
   "source": [
    "Referencias:\n",
    "\n",
    "[1] https://www.geeksforgeeks.org/queue-in-python/\n",
    "\n",
    "[2] https://www.comocrearunapaginaweb.com.mx/colas-de-tareas-lenguaje-python/\n",
    "\n",
    "[3] https://recursospython.com/guias-y-manuales/colas-con-el-modulo-queue/\n",
    "\n",
    "\n"
   ]
  }
 ],
 "metadata": {
  "kernelspec": {
   "display_name": "Python 3.10.6 64-bit",
   "language": "python",
   "name": "python3"
  },
  "language_info": {
   "codemirror_mode": {
    "name": "ipython",
    "version": 3
   },
   "file_extension": ".py",
   "mimetype": "text/x-python",
   "name": "python",
   "nbconvert_exporter": "python",
   "pygments_lexer": "ipython3",
   "version": "3.10.6"
  },
  "orig_nbformat": 4,
  "vscode": {
   "interpreter": {
    "hash": "d98d24d73b4398bef72eb98130026f81fd25d04b487a508c7f28a0710c7a5116"
   }
  }
 },
 "nbformat": 4,
 "nbformat_minor": 2
}
