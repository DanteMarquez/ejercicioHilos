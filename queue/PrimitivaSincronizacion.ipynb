{
 "cells": [
  {
   "cell_type": "markdown",
   "metadata": {},
   "source": [
    "<div style=\"display:flex;flex-direction:row;justify-content: space-evenly;\">\n",
    "<img src=\"tecnm.png\" style=\"height:100px;\"/>\n",
    "<img src=\"itcolima.svg\" style=\"width:100px\"/>\n",
    "</div>\n",
    "<div style=\"display:flex;flex-direction:column;gap:20px;text-align:center\">\n",
    "<h1>Tecnológico Nacional de México campus Colima</h1>\n",
    "<h2>Maestría en Sistemas Computacionales</h2>\n",
    "<h2>Tecnologías de programación</h2>\n",
    "<h2>Actividad - \"Primitivas de sincronización\"</h2>\n",
    "<h2>D. en C. Patricia Elizabeth Figueroa Millán</h2>\n",
    "<h3>Dante Alberto Márquez Almaraz | G2146002</h3>\n",
    "<p style=\"text-align:right;\">Villa de Álvarez, Colima - 08 de noviembre de 2022</p>\n",
    "<p></p>\n",
    "</div>"
   ]
  },
  {
   "cell_type": "markdown",
   "metadata": {},
   "source": [
    "Objetivo:\n",
    "\n",
    "Investigar las Primitivas de Sincronización de Hilos que ofrece Python:\n",
    "\n",
    "Lock\n",
    "\n",
    "Event\n",
    "\n",
    "Condition\n",
    "\n",
    "Semaphore\n",
    "\n",
    "BoundedSemaphore\n",
    "\n",
    "Barrier"
   ]
  },
  {
   "cell_type": "markdown",
   "metadata": {},
   "source": [
    "Metodología:\n",
    "\n",
    "Se realizó una investigación referente a los temas de sincronización y se complementaron con ejemplos de código en Python."
   ]
  },
  {
   "cell_type": "markdown",
   "metadata": {},
   "source": [
    "Materiales:\n",
    "\n",
    "Computadora.\n",
    "Visual Studio Code.\n",
    "Jupyter Notebook.\n"
   ]
  },
  {
   "cell_type": "markdown",
   "metadata": {},
   "source": [
    "Desarrollo:\n",
    "\n",
    " Las primitivas de sincronización proporcionan un mecanismo diferente para la señalización: al liberar un bloqueo, un subproceso notifica a otro subproceso que puede continuar adquiriendo el bloqueo [1].\n",
    "\n"
   ]
  },
  {
   "cell_type": "markdown",
   "metadata": {},
   "source": [
    "Resultados:"
   ]
  },
  {
   "cell_type": "markdown",
   "metadata": {},
   "source": [
    "LOCK"
   ]
  },
  {
   "cell_type": "markdown",
   "metadata": {},
   "source": [
    "Un Lock se puede usar para proteger el acceso a un recurso compartido. Solamente el titular del bloqueo puede utilizar el recurso. Múltiples intentos de adquirir la cerradura se bloquearán de modo que solo haya un titular en cada momento [2]."
   ]
  },
  {
   "cell_type": "code",
   "execution_count": 15,
   "metadata": {},
   "outputs": [
    {
     "name": "stdout",
     "output_type": "stream",
     "text": [
      "iteration 0. expected x = 2000000, got 2000000\n",
      "iteration 1. expected x = 2000000, got 2000000\n",
      "iteration 2. expected x = 2000000, got 2000000\n",
      "iteration 3. expected x = 2000000, got 2000000\n",
      "iteration 4. expected x = 2000000, got 2000000\n"
     ]
    }
   ],
   "source": [
    "import threading\n",
    "Lock=threading.Lock()\n",
    "ITERS = 1000000\n",
    "x = [0]\n",
    "\n",
    "def worker():\n",
    "    for _ in range(ITERS):\n",
    "        Lock.acquire()\n",
    "        x[0] += 1\n",
    "        Lock.release()\n",
    "\n",
    "\n",
    "        #with Lock:\n",
    "        #    x[0] += 1\n",
    "def main():\n",
    "    x[0] = 0  # you may use `global x` instead of this list trick too\n",
    "    t1 = threading.Thread(target=worker)\n",
    "    t2 = threading.Thread(target=worker)\n",
    "\n",
    "    t1.start()\n",
    "    t2.start()\n",
    "    t1.join()\n",
    "    t2.join()\n",
    "\n",
    "for i in range(5):\n",
    "    main()\n",
    "    print(f'iteration {i}. expected x = {ITERS*2}, got {x[0]}')"
   ]
  },
  {
   "cell_type": "markdown",
   "metadata": {},
   "source": [
    "EVENT"
   ]
  },
  {
   "cell_type": "markdown",
   "metadata": {},
   "source": [
    "Los eventos son objetos que se utilizan para la comunicación entre hilos. Un subproceso espera una señal mientras otro la emite. Básicamente, un objeto de evento administra un indicador interno que se puede establecer en verdadero con el método set() y restablecer en falso con el método clear(). El método wait() bloquea hasta que la bandera es verdadera [3]."
   ]
  },
  {
   "cell_type": "code",
   "execution_count": 16,
   "metadata": {},
   "outputs": [
    {
     "name": "stderr",
     "output_type": "stream",
     "text": [
      "(blocking ) wait_for_event starting\n",
      "C:\\Users\\dante\\AppData\\Local\\Temp\\ipykernel_16348\\3569324192.py:13: DeprecationWarning: isSet() is deprecated, use is_set() instead\n",
      "  while not e.isSet():\n",
      "(non-blocking) wait_for_event_timeout starting\n",
      "(MainThread) Waiting before calling Event.set()\n",
      "(non-blocking) event set: False\n",
      "(non-blocking) doing other things\n",
      "(non-blocking) wait_for_event_timeout starting\n",
      "(MainThread) Event is set\n",
      "(blocking ) event set: True\n",
      "(non-blocking) event set: True\n",
      "(non-blocking) processing event\n"
     ]
    }
   ],
   "source": [
    "import threading\n",
    "import time\n",
    "import logging\n",
    "\n",
    "logging.basicConfig(level=logging.DEBUG,format='(%(threadName)-9s) %(message)s',)\n",
    "                    \n",
    "def wait_for_event(e):\n",
    "    logging.debug('wait_for_event starting')\n",
    "    event_is_set = e.wait()\n",
    "    logging.debug('event set: %s', event_is_set)\n",
    "\n",
    "def wait_for_event_timeout(e, t):\n",
    "    while not e.isSet():\n",
    "        logging.debug('wait_for_event_timeout starting')\n",
    "        event_is_set = e.wait(t)\n",
    "        logging.debug('event set: %s', event_is_set)\n",
    "        if event_is_set:\n",
    "            logging.debug('processing event')\n",
    "        else:\n",
    "            logging.debug('doing other things')\n",
    "\n",
    "if __name__ == '__main__':\n",
    "    e = threading.Event()\n",
    "    t1 = threading.Thread(name='blocking', target=wait_for_event,args=(e,))\n",
    "    t1.start()\n",
    "\n",
    "    t2 = threading.Thread(name='non-blocking', target=wait_for_event_timeout, args=(e, 2))\n",
    "    t2.start()\n",
    "\n",
    "    logging.debug('Waiting before calling Event.set()')\n",
    "    time.sleep(3)\n",
    "    e.set()\n",
    "    logging.debug('Event is set')"
   ]
  },
  {
   "cell_type": "markdown",
   "metadata": {},
   "source": [
    "CONDITION"
   ]
  },
  {
   "cell_type": "markdown",
   "metadata": {},
   "source": [
    "Debido a que una variable de condición siempre está asociada con algún tipo de bloqueo, puede vincularse a un recurso compartido. Se puede pasar un bloqueo o se creará uno de forma predeterminada. Pasar uno es útil cuando varias variables de condición deben compartir el mismo bloqueo. El bloqueo es parte del objeto de condición: no tenemos que rastrearlo por separado. Por lo tanto, el objeto de condición permite que los subprocesos esperen a que se actualice el recurso [4]."
   ]
  },
  {
   "cell_type": "code",
   "execution_count": 17,
   "metadata": {},
   "outputs": [
    {
     "name": "stderr",
     "output_type": "stream",
     "text": [
      "(consumer1) Consumer thread started ...\n",
      "(consumer1) Consumer waiting ...\n",
      "Exception in thread consumer1:\n",
      "Traceback (most recent call last):\n",
      "  File \"c:\\Users\\dante\\AppData\\Local\\Programs\\Python\\Python310\\lib\\threading.py\", line 1016, in _bootstrap_inner\n",
      "    self.run()\n",
      "  File \"c:\\Users\\dante\\AppData\\Local\\Programs\\Python\\Python310\\lib\\threading.py\", line 953, in run\n",
      "    self._target(*self._args, **self._kwargs)\n",
      "  File \"C:\\Users\\dante\\AppData\\Local\\Temp\\ipykernel_16348\\3197485847.py\", line 11, in consumer\n",
      "  File \"c:\\Users\\dante\\AppData\\Local\\Programs\\Python\\Python310\\lib\\threading.py\", line 312, in wait\n",
      "    raise RuntimeError(\"cannot wait on un-acquired lock\")\n",
      "RuntimeError: cannot wait on un-acquired lock\n",
      "(consumer2) Consumer thread started ...\n",
      "(consumer2) Consumer waiting ...\n",
      "Exception in thread consumer2:\n",
      "Traceback (most recent call last):\n",
      "  File \"c:\\Users\\dante\\AppData\\Local\\Programs\\Python\\Python310\\lib\\threading.py\", line 1016, in _bootstrap_inner\n",
      "    self.run()\n",
      "  File \"c:\\Users\\dante\\AppData\\Local\\Programs\\Python\\Python310\\lib\\threading.py\", line 953, in run\n",
      "    self._target(*self._args, **self._kwargs)\n",
      "  File \"C:\\Users\\dante\\AppData\\Local\\Temp\\ipykernel_16348\\3197485847.py\", line 11, in consumer\n",
      "  File \"c:\\Users\\dante\\AppData\\Local\\Programs\\Python\\Python310\\lib\\threading.py\", line 312, in wait\n",
      "    raise RuntimeError(\"cannot wait on un-acquired lock\")\n",
      "RuntimeError: cannot wait on un-acquired lock\n",
      "(producer ) Producer thread started ...\n",
      "(producer ) Making resource available\n",
      "(producer ) Notifying to all consumers\n",
      "C:\\Users\\dante\\AppData\\Local\\Temp\\ipykernel_16348\\3197485847.py:19: DeprecationWarning: notifyAll() is deprecated, use notify_all() instead\n",
      "  cv.notifyAll()\n"
     ]
    }
   ],
   "source": [
    "import threading\n",
    "import time\n",
    "import logging\n",
    "\n",
    "logging.basicConfig(level=logging.DEBUG,format='(%(threadName)-9s) %(message)s',)\n",
    "\n",
    "def consumer(cv):\n",
    "    logging.debug('Consumer thread started ...')\n",
    "    with cv:\n",
    "        logging.debug('Consumer waiting ...')\n",
    "    cv.wait()\n",
    "    logging.debug('Consumer consumed the resource')\n",
    "\n",
    "def producer(cv):\n",
    "    logging.debug('Producer thread started ...')\n",
    "    with cv:\n",
    "        logging.debug('Making resource available')\n",
    "        logging.debug('Notifying to all consumers')\n",
    "        cv.notifyAll()\n",
    "\n",
    "if __name__ == '__main__':\n",
    "    condition = threading.Condition()\n",
    "    cs1 = threading.Thread(name='consumer1', target=consumer, args=(condition,))\n",
    "    cs2 = threading.Thread(name='consumer2', target=consumer, args=(condition,))\n",
    "    pd = threading.Thread(name='producer', target=producer, args=(condition,))\n",
    "\n",
    "    cs1.start()\n",
    "    time.sleep(2)\n",
    "    cs2.start()\n",
    "    time.sleep(2)\n",
    "    pd.start()\n"
   ]
  },
  {
   "cell_type": "markdown",
   "metadata": {},
   "source": [
    "SEMAPHORE"
   ]
  },
  {
   "cell_type": "markdown",
   "metadata": {},
   "source": [
    "Semaphore es simplemente una variable que no es negativa y se comparte entre subprocesos. Mientras que los objetos Lock y RLock permiten que solo se ejecute un subproceso, Semaphore permite que se ejecute más de un subproceso a la vez. Los semáforos se utilizan para proteger los recursos que tienen una capacidad limitada al especificar la cantidad de subprocesos que se pueden ejecutar al crear un objeto Semaphore. Si este conteo inicial es 1, Semaphores puede ayudar en la sincronización de hilos [5]."
   ]
  },
  {
   "cell_type": "code",
   "execution_count": 18,
   "metadata": {},
   "outputs": [
    {
     "name": "stderr",
     "output_type": "stream",
     "text": [
      "C:\\Users\\dante\\AppData\\Local\\Temp\\ipykernel_16348\\282423170.py:17: DeprecationWarning: getName() is deprecated, get the name attribute instead\n",
      "  output = self.getName() + \" starts reading\"\n"
     ]
    },
    {
     "name": "stdout",
     "output_type": "stream",
     "text": [
      "Thread-83 starts reading\n",
      "Thread-84 starts reading\n",
      "Thread-85 starts reading\n"
     ]
    },
    {
     "name": "stderr",
     "output_type": "stream",
     "text": [
      "C:\\Users\\dante\\AppData\\Local\\Temp\\ipykernel_16348\\282423170.py:24: DeprecationWarning: getName() is deprecated, get the name attribute instead\n",
      "  output = self.getName() + \" ends reading\"\n"
     ]
    },
    {
     "name": "stdout",
     "output_type": "stream",
     "text": [
      "Thread-84 ends reading\n",
      "Thread-85 ends reading\n",
      "Thread-83 ends reading\n",
      "Thread-88 starts reading\n",
      "Thread-86 starts reading\n",
      "Thread-87 starts reading\n",
      "Thread-87 ends reading\n",
      "Thread-86 ends reading\n",
      "Thread-88 ends reading\n",
      "Thread-91 starts reading\n",
      "Thread-90 starts reading\n",
      "Thread-89 starts reading\n",
      "Thread-91 ends readingThread-89 ends reading\n",
      "Thread-90 ends reading\n",
      "Thread-92 starts reading\n",
      "\n",
      "Thread-92 ends reading\n"
     ]
    }
   ],
   "source": [
    "import threading\n",
    "import time\n",
    "\n",
    "read_mutex = threading.Semaphore(3)\n",
    "\n",
    "# Our shared resource\n",
    "data = \"A Data Stream\"\n",
    "\n",
    "class ReaderThread(threading.Thread):\n",
    "  def __init__(self):\n",
    "    threading.Thread.__init__(self)\n",
    "\n",
    "  def run(self):\n",
    "\n",
    "    read_mutex.acquire()\n",
    "\n",
    "    output = self.getName() + \" starts reading\"\n",
    "    print(output)\n",
    "  \n",
    "    # threads take time to read a data\n",
    "    time.sleep(0.5)\n",
    "    some_data = data\n",
    "\n",
    "    output = self.getName() + \" ends reading\"\n",
    "    print(output)\n",
    "\n",
    "    read_mutex.release()\n",
    "\n",
    "if __name__ == \"__main__\":\n",
    "\n",
    "  threads = []\n",
    "  for i in range(10):\n",
    "    threads.append(ReaderThread())\n",
    "\n",
    "  for thread in threads:\n",
    "    thread.start()\n",
    "\n",
    "  for thread in threads:\n",
    "    thread.join()"
   ]
  },
  {
   "cell_type": "markdown",
   "metadata": {},
   "source": [
    "BOUNDEDSEMAPHORE"
   ]
  },
  {
   "cell_type": "markdown",
   "metadata": {},
   "source": [
    "Se puede usar una clase threading.BoundedSemaphore que verificará que el contador interno no supere el valor inicial a través de llamadas a release(). Si lo hace, se generará un ValueError, tratándolo como una condición de error [6]."
   ]
  },
  {
   "cell_type": "code",
   "execution_count": 19,
   "metadata": {},
   "outputs": [
    {
     "name": "stdout",
     "output_type": "stream",
     "text": [
      "6\n",
      "As expected, it complained.\n"
     ]
    }
   ],
   "source": [
    "from threading import Semaphore, BoundedSemaphore\n",
    "\n",
    "# Usually, you create a Semaphore that will allow a certain number of threads\n",
    "# into a section of code. This one starts at 5.\n",
    "s1 = Semaphore(5)\n",
    "\n",
    "# When you want to enter the section of code, you acquire it first.\n",
    "# That lowers it to 4. (Four more threads could enter this section.)\n",
    "s1.acquire()\n",
    "\n",
    "# Then you do whatever sensitive thing needed to be restricted to five threads.\n",
    "\n",
    "# When you're finished, you release the semaphore, and it goes back to 5.\n",
    "s1.release()\n",
    "\n",
    "\n",
    "# That's all fine, but you can also release it without acquiring it first.\n",
    "s1.release()\n",
    "\n",
    "# The counter is now 6! That might make sense in some situations, but not in most.\n",
    "print(s1._value)  # => 6\n",
    "\n",
    "# If that doesn't make sense in your situation, use a BoundedSemaphore.\n",
    "\n",
    "s2 = BoundedSemaphore(5)  # Start at 5.\n",
    "\n",
    "s2.acquire()  # Lower to 4.\n",
    "\n",
    "s2.release()  # Go back to 5.\n",
    "\n",
    "try:\n",
    "    s2.release()  # Try to raise to 6, above starting value.\n",
    "except ValueError:\n",
    "    print('As expected, it complained.') "
   ]
  },
  {
   "cell_type": "markdown",
   "metadata": {},
   "source": [
    "BARRIER"
   ]
  },
  {
   "cell_type": "markdown",
   "metadata": {},
   "source": [
    "Permite que varios subprocesos esperen en la misma instancia de objeto de barrera (por ejemplo, en el mismo punto del código) hasta que llegue un número fijo predefinido de subprocesos (por ejemplo, la barrera está llena), después de lo cual todos los subprocesos son notificados y liberados para continuar con su ejecución. .\n",
    "\n",
    "Internamente, una barrera mantiene un recuento de la cantidad de subprocesos que esperan en la barrera y una cantidad máxima configurada de partes (subprocesos) que se esperan. Una vez que el número esperado de partes alcanza el máximo predefinido, se notifica a todos los subprocesos en espera [7]."
   ]
  },
  {
   "cell_type": "code",
   "execution_count": 20,
   "metadata": {},
   "outputs": [
    {
     "name": "stdout",
     "output_type": "stream",
     "text": [
      "Main thread waiting on all results...\n",
      "Thread 2 done, got: 1.603247531739026\n",
      "Thread 3 done, got: 3.7205210257872725\n",
      "Thread 0 done, got: 4.183958044193821\n",
      "Thread 1 done, got: 4.342350786212955\n",
      "Thread 4 done, got: 9.142478677033614\n",
      "All threads have their result\n"
     ]
    }
   ],
   "source": [
    "# SuperFastPython.com\n",
    "# example of using a barrier\n",
    "from time import sleep\n",
    "from random import random\n",
    "from threading import Thread\n",
    "from threading import Barrier\n",
    "\n",
    "# target function to prepare some work\n",
    "def task(barrier, number):\n",
    "    # generate a unique value\n",
    "    value = random() * 10\n",
    "    # block for a moment\n",
    "    sleep(value)\n",
    "    # report result\n",
    "    print(f'Thread {number} done, got: {value}')\n",
    "    # wait on all other threads to complete\n",
    "    barrier.wait()\n",
    "\n",
    "# create a barrier\n",
    "barrier = Barrier(5 + 1)\n",
    "# create the worker threads\n",
    "for i in range(5):\n",
    "    # start a new thread to perform some work\n",
    "    worker = Thread(target=task, args=(barrier, i))\n",
    "    worker.start()\n",
    "# wait for all threads to finish\n",
    "print('Main thread waiting on all results...')\n",
    "barrier.wait()\n",
    "# report once all threads are done\n",
    "print('All threads have their result')"
   ]
  },
  {
   "cell_type": "markdown",
   "metadata": {},
   "source": [
    "Conclusiones:\n",
    "\n"
   ]
  },
  {
   "cell_type": "markdown",
   "metadata": {},
   "source": [
    "En este trabajo, hemos aprendido la sincronización en Python para evitar condiciones de carrera mediante el uso del módulo de subprocesamiento en Python para lograr la sincronización."
   ]
  },
  {
   "cell_type": "markdown",
   "metadata": {},
   "source": [
    "Referencias:\n",
    "\n",
    "[1] https://learn.microsoft.com/es-es/dotnet/standard/threading/overview-of-synchronization-primitives\n",
    "\n",
    "[2] https://rico-schmidt.name/pymotw-3/asyncio/synchronization.html\n",
    "\n",
    "[3] https://subscription.packtpub.com/book/application-development/9781785289583/2/ch02lvl1sec29/thread-synchronization-with-an-event\n",
    "\n",
    "[4] https://www.bogotobogo.com/python/Multithread/python_multithreading_Synchronization_Condition_Objects_Producer_Consumer.php\n",
    "\n",
    "[5] https://www.askpython.com/python/examples/synchronization-in-python\n",
    "\n",
    "[6] https://stackoverflow.com/questions/48971121/what-is-the-difference-between-semaphore-and-boundedsemaphore\n",
    "\n",
    "[7] https://superfastpython.com/thread-barrier-in-python/\n",
    "\n",
    "[8] https://docs.python.org/es/3/library/asyncio-sync.html\n",
    "\n"
   ]
  }
 ],
 "metadata": {
  "kernelspec": {
   "display_name": "Python 3.10.6 64-bit",
   "language": "python",
   "name": "python3"
  },
  "language_info": {
   "codemirror_mode": {
    "name": "ipython",
    "version": 3
   },
   "file_extension": ".py",
   "mimetype": "text/x-python",
   "name": "python",
   "nbconvert_exporter": "python",
   "pygments_lexer": "ipython3",
   "version": "3.10.6"
  },
  "orig_nbformat": 4,
  "vscode": {
   "interpreter": {
    "hash": "d98d24d73b4398bef72eb98130026f81fd25d04b487a508c7f28a0710c7a5116"
   }
  }
 },
 "nbformat": 4,
 "nbformat_minor": 2
}
