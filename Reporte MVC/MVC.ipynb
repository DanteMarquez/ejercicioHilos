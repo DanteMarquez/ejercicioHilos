{
 "cells": [
  {
   "cell_type": "markdown",
   "metadata": {},
   "source": [
    "<div style=\"display:flex;flex-direction:row;justify-content: space-evenly;\">\n",
    "<img src=\"tecnm.png\" style=\"height:100px;\"/>\n",
    "<img src=\"itcolima.svg\" style=\"width:100px\"/>\n",
    "</div>\n",
    "<div style=\"display:flex;flex-direction:column;gap:20px;text-align:center\">\n",
    "<h1>Tecnológico Nacional de México campus Colima</h1>\n",
    "<h2>Maestría en Sistemas Computacionales</h2>\n",
    "<h2>Tecnologías de programación</h2>\n",
    "<h2>Actividad - \"Investigar e implementar en Python el patrón de diseño arquitectural MVC\"</h2>\n",
    "<h2>D. en C. Patricia Elizabeth Figueroa Millán</h2>\n",
    "<h3>Dante Alberto Márquez Almaraz | G2146002</h3>\n",
    "<p style=\"text-align:right;\">Villa de Álvarez, Colima - 30 de noviembre de 2022</p>\n",
    "<p></p>\n",
    "</div>"
   ]
  },
  {
   "cell_type": "markdown",
   "metadata": {},
   "source": [
    "Indice:\n",
    "\n",
    "RESUMEN\n",
    "\n",
    "INTRODUCCIÓN\n",
    "\n",
    "OBJETIVO\n",
    "\n",
    "METODOLOGÍA\n",
    "\n",
    "MATERIALES\n",
    "\n",
    "DESARROLLO\n",
    "\n",
    "    MVC\n",
    "\n",
    "    MODELO\n",
    "\n",
    "    VISTA\n",
    "\n",
    "    CONTROLADOR\n",
    "\n",
    "RESULTADOS\n",
    "\n",
    "    EJEMPLO\n",
    "\n",
    "CONCLUSIÓN \n",
    "\n",
    "REFERENCIAS"
   ]
  },
  {
   "cell_type": "markdown",
   "metadata": {},
   "source": [
    "Resumen:\n",
    "\n",
    "En el presente documento es una libreta de Python, la cual contiene un reporte de investigación referente a los patrones de diseño, los cuales son técnicas para resolver problemas comunes que ocurren en el desarrollo de software. En este documento se plasma una investigación referente al MVC (Modelo Vista Controlador), siendo este un estilo de arquitectura de software enfocado en separar los datos de una aplicación, la interface de usuario y la lógica de control. Este patrón es empleado en aplicaciones web modernas son muy complejas, y hacer un cambio a veces puede ser un gran dolor de cabeza. Administrar el frontend y el backend en componentes separados más pequeños permite que la aplicación sea escalable, mantenible y fácil de expandir. "
   ]
  },
  {
   "cell_type": "markdown",
   "metadata": {},
   "source": [
    "Introducción:\n",
    "\n",
    "Los patrones de diseño o design patterns, son una solución general, reutilizable y aplicable a diferentes problemas de diseño de software. Se trata de plantillas que identifican problemas en el sistema y proporcionan soluciones apropiadas a problemas generales a los que se han enfrentado los desarrolladores durante un largo periodo de tiempo, a través de prueba y error [1]."
   ]
  },
  {
   "cell_type": "markdown",
   "metadata": {},
   "source": [
    "Objetivo:\n",
    "\n",
    "\n",
    "Los alumnos de manera individual deberán investigar   qué es el patrón de diseño arquitectural MVC y cómo funciona, así como su implementación en python. Para esto el alumno deberá:\n",
    "\n",
    "\n",
    "Documentar la teoría necesaria para evidenciar qué es y cómo funciona el patrón de diseño.\n",
    "\n",
    "\n",
    "Implementar un código de ejemplo sobre el patrón de diseño MVC en python. \n",
    "\n",
    "\n",
    "El código debe estar documentado (no copy-paste); contar con las clases para modelo, vista, controlador (ej.  Class Model, Class View, Class Controler y función main)\n",
    "\n",
    "\n",
    "Para el modelo pueden emplear una estructura de datos (lista, diccionarios, etc.) o csv. \n",
    "\n",
    "\n",
    "Debe entregarlo en una libreta de Jupyter, considerando la rúbrica para organizadores gráficos.\n",
    "\n",
    "\n",
    "Recuerde desarrollar su reporte considerando los detalles finos y de calidad.\n"
   ]
  },
  {
   "cell_type": "markdown",
   "metadata": {},
   "source": [
    "Metodología:\n",
    "\n",
    "Se realizó una investigación referente a los temas de patrones de deseño, en específico MVC."
   ]
  },
  {
   "cell_type": "markdown",
   "metadata": {},
   "source": [
    "Materiales:\n",
    "\n",
    "Computadora.\n",
    "\n",
    "Internet.\n",
    "\n",
    "Visual Studio Code.\n",
    "\n",
    "Jupyter Notebook.\n",
    "\n",
    "Python.\n"
   ]
  },
  {
   "cell_type": "markdown",
   "metadata": {},
   "source": [
    "Desarrollo:\n",
    "\n",
    "MVC\n",
    "\n",
    "Modelo Vista Controlador (MVC) es un estilo de arquitectura de software que separa los datos de una aplicación, la interfaz de usuario, y la lógica de control en tres componentes distintos.\n",
    "Se trata de un modelo muy maduro y que ha demostrado su validez a lo largo de los años en todo tipo de aplicaciones, y sobre multitud de lenguajes y plataformas de desarrollo [2].\n",
    "\n",
    "MVC se usa inicialmente en sistemas donde se requiere el uso de interfaces de usuario, aunque en la práctica el mismo patrón de arquitectura se puede utilizar para distintos tipos de aplicaciones. Surge de la necesidad de crear software más robusto con un ciclo de vida más adecuado, donde se potencie la facilidad de mantenimiento, reutilización del código y la separación de conceptos [3].\n",
    "\n",
    "A continuación se muestran las partes de un MVC [4].\n",
    "\n",
    "\n"
   ]
  },
  {
   "cell_type": "markdown",
   "metadata": {},
   "source": [
    "MODELO\n",
    "\n",
    "Se encarga de los datos, generalmente (pero no obligatoriamente) consultando la base de datos. Actualizaciones, consultas, búsquedas, etc. todo eso va aquí, en el modelo."
   ]
  },
  {
   "cell_type": "markdown",
   "metadata": {},
   "source": [
    "VISTA\n",
    "\n",
    "Son la representación visual de los datos, todo lo que tenga que ver con la interfaz gráfica va aquí. Ni el modelo ni el controlador se preocupan de cómo se verán los datos, esa responsabilidad es únicamente de la vista."
   ]
  },
  {
   "cell_type": "markdown",
   "metadata": {},
   "source": [
    "CONTROLADOR\n",
    "\n",
    "Se encarga de controlar, recibe las órdenes del usuario y se encarga de solicitar los datos al modelo y de comunicárselos a la vista."
   ]
  },
  {
   "cell_type": "markdown",
   "metadata": {},
   "source": [
    "Resultados:\n",
    "\n",
    "Ejemplo\n",
    "\n",
    " Se necesita desarrollar una aplicación que informe a los usuarios sobre los servicios de marketing proporcionados por la empresa en la nube, incluidos correo electrónico, SMS y servicios de voz [5].\n"
   ]
  },
  {
   "cell_type": "code",
   "execution_count": 1,
   "metadata": {},
   "outputs": [
    {
     "name": "stdout",
     "output_type": "stream",
     "text": [
      "Services Provided:\n",
      "email  \n",
      "sms  \n",
      "voice  \n",
      "Pricing for Services:\n",
      "For 1000 email message you pay $ 2\n",
      "For 1000 sms message you pay $ 10\n",
      "For 1000 voice message you pay $ 15\n"
     ]
    }
   ],
   "source": [
    "# Primero desarrollamos la clase Model (modelo) para definir los servicios y costos proporcionados por el producto\n",
    "class Model(object):\n",
    "    services = {\n",
    "        'email': {'number': 1000, 'price': 2},\n",
    "        'sms': {'number': 1000, 'price': 10},\n",
    "        'voice': {'number': 1000, 'price': 15},\n",
    "    }\n",
    "\n",
    "# Luego se define la clase de View (vista), que proporciona un método para retroalimentar la información al cliente\n",
    "# define dos métodos list_services () y list_pricing () para mostrar los servicios y precios disponibles\n",
    "class View(object):\n",
    "    def list_services(self, services):\n",
    "        for svc in services:\n",
    "            print(svc, \" \")\n",
    "\n",
    "    def list_pricing(self, services):\n",
    "        for svc in services:\n",
    "            print(\"For\", Model.services[svc]['number'], svc, \"message you pay $\", Model.services[svc]['price'])\n",
    "\n",
    "# Se define la clase Controller (controlador), que define dos métodos get_services () y get_pricing () \n",
    "# Ambos métodos se utilizan para consultar el modelo y obtener datos, y luego enviar los datos a la vista para mostrárselos al usuario\n",
    "class Controller(object):\n",
    "    def __init__(self):\n",
    "        self.model = Model()\n",
    "        self.view = View()\n",
    "\n",
    "    def get_services(self):\n",
    "        services = self.model.services.keys()\n",
    "        return self.view.list_services(services)\n",
    "\n",
    "    def get_pricing(self):\n",
    "        services = self.model.services.keys()\n",
    "        return self.view.list_pricing(services)\n",
    "\n",
    "# La clase Client creará una instancia del controlador, y luego el objeto controlador llamará al método apropiado de acuerdo con la solicitud del cliente\n",
    "class Client(object):\n",
    "    con = Controller()\n",
    "    print(\"Services Provided:\")\n",
    "    con.get_services()\n",
    "    print(\"Pricing for Services:\")\n",
    "    con.get_pricing()\n"
   ]
  },
  {
   "cell_type": "markdown",
   "metadata": {},
   "source": [
    "Conclusión:\n",
    "\n",
    "El gran crecimiento del sector de las tecnologías de la información ha hecho que las prácticas de desarrollo de software evolucionen. Antes se requería completar todo el software antes de realizar pruebas, lo que suponía encontrarse con problemas. Para ahorrar tiempo y evitar volver a la etapa de desarrollo una vez que este ha finalizado, se introdujo una práctica de prueba durante la fase de desarrollo. Esta práctica se usa para identificar condiciones de error y problemas en el código que pueden no ser evidentes en ese momento. En definitiva, los patrones de diseño te ayudan a estar seguro de la validez de tu código, ya que son soluciones que funcionan y han sido probados por muchísimos desarrolladores siendo menos propensos a errores.\n",
    "\n",
    "En este caso el uso de MVC es la separación de preocupaciones.\n",
    "Las aplicaciones web modernas son muy complejas, y hacer un cambio a veces puede ser un gran dolor de cabeza.\n",
    "Administrar el frontend y el backend en componentes separados más pequeños permite que la aplicación sea escalable, mantenible y fácil de expandir.\n",
    "\n"
   ]
  },
  {
   "cell_type": "markdown",
   "metadata": {},
   "source": [
    "Referencias:\n",
    "\n",
    "[1] MartÍnez, M. 2022. Profile. ¿Qué son los patrones de diseño de software?. https://profile.es/blog/patrones-de-diseno-de-software/\n",
    "\n",
    "[2] Universidad de Alicante. 2022. Modelo vista controlador (MVC). https://si.ua.es/es/documentacion/asp-net-mvc-3/1-dia/modelo-vista-controlador-mvc.html\n",
    "\n",
    "[3] Alvarez, M. 2020. Qué es MVC. https://desarrolloweb.com/articulos/que-es-mvc.html\n",
    "\n",
    "[4] Hernández, U. 2015 .MVC (Model, View, Controller) explicado. https://codigofacilito.com/articulos/mvc-model-view-controller-explicado\n",
    "\n",
    "[5] Programador clic. 2020. Modo Python modelo-vista-controlador-compuesto. https://programmerclick.com/article/32121550755/\n"
   ]
  }
 ],
 "metadata": {
  "kernelspec": {
   "display_name": "Python 3.10.6 64-bit",
   "language": "python",
   "name": "python3"
  },
  "language_info": {
   "codemirror_mode": {
    "name": "ipython",
    "version": 3
   },
   "file_extension": ".py",
   "mimetype": "text/x-python",
   "name": "python",
   "nbconvert_exporter": "python",
   "pygments_lexer": "ipython3",
   "version": "3.10.6"
  },
  "orig_nbformat": 4,
  "vscode": {
   "interpreter": {
    "hash": "d98d24d73b4398bef72eb98130026f81fd25d04b487a508c7f28a0710c7a5116"
   }
  }
 },
 "nbformat": 4,
 "nbformat_minor": 2
}
